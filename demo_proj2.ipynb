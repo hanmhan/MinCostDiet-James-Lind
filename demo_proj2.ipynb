{
 "cells": [
  {
   "cell_type": "code",
   "execution_count": 1,
   "metadata": {},
   "outputs": [
    {
     "name": "stdout",
     "output_type": "stream",
     "text": [
      "Enabling notebook extension jupyter-js-widgets/extension...\r\n",
      "      - Validating: \u001b[32mOK\u001b[0m\r\n"
     ]
    }
   ],
   "source": [
    "from helper import *\n",
    "import matplotlib.pyplot as plt\n",
    "from ipywidgets import interact\n",
    "\n",
    "!jupyter nbextension enable --py widgetsnbextension\n"
   ]
  },
  {
   "cell_type": "code",
   "execution_count": 2,
   "metadata": {},
   "outputs": [
    {
     "name": "stdout",
     "output_type": "stream",
     "text": [
      "successful!\n",
      "Cost of diet for the average of the (F 19-30, M 19-30) is $14.81 per day.\n",
      "\n",
      "You'll be eating (in 100s of grams or milliliters):\n",
      "Food\n",
      "Avocado           4.511278\n",
      "Carrots           0.430910\n",
      "Potato, raw       1.092201\n",
      "anchovy, raw      3.870968\n",
      "asparagus, raw    9.915836\n",
      "lentils, raw      2.661740\n",
      "swiss cheese      0.059172\n",
      "tuna in water     0.000001\n",
      "dtype: float64\n",
      "\n",
      "With the following nutritional outcomes of interest:\n",
      "                                    Outcome  Recommendation\n",
      "Nutrition                                                  \n",
      "Energy                          2499.999631         2200.00\n",
      "Protein                          170.623481           51.00\n",
      "Fiber, total dietary              83.466506           30.80\n",
      "Folate, DFE                     1852.190478          400.00\n",
      "Calcium, Ca                     1000.000024         1000.00\n",
      "Carbohydrate, by difference      270.133870          130.00\n",
      "Iron, Fe                          60.210005           13.00\n",
      "Magnesium, Mg                    452.924754          355.00\n",
      "Niacin                            72.469803           15.00\n",
      "Phosphorus, P                   1993.706435          700.00\n",
      "Potassium, K                    5876.548082         4700.00\n",
      "Riboflavin                         3.017224            1.20\n",
      "Thiamin                            4.005944            1.15\n",
      "Vitamin A, RAE                   800.000027          800.00\n",
      "Vitamin B-12                       2.400000            2.40\n",
      "Vitamin B-6                        3.213731            1.30\n",
      "Vitamin C, total ascorbic acid    82.500002           82.50\n",
      "Vitamin E (alpha-tocopherol)      15.000000           15.00\n",
      "Vitamin K (phylloquinone)        431.882611          105.00\n",
      "Zinc, Zn                          21.202196            9.50\n",
      "Vitamin D                        600.000001          600.00\n",
      "Sodium, Na                      2295.146952         2300.00\n",
      "Energy                          2499.999631         2500.00\n",
      "\n",
      "Constraining nutrients are:\n",
      "['Vitamin B-12', 'Vitamin E (alpha-tocopherol)', 'Vitamin D']\n"
     ]
    }
   ],
   "source": [
    "demo = FoodLibrary(proj2=True)\n",
    "df = pd.read_csv(demo.foods_spreadsheet)\n",
    "lst = list(df['Food'])\n",
    "qwe = pd.read_csv(demo.foods_spreadsheet)\n",
    "demo.open_nutrition_dataframe()\n",
    "demo.min_cost()"
   ]
  },
  {
   "cell_type": "code",
   "execution_count": 3,
   "metadata": {
    "scrolled": false
   },
   "outputs": [
    {
     "data": {
      "application/vnd.jupyter.widget-view+json": {
       "model_id": "050749f8ec0d490da6776988b9386ecd",
       "version_major": 2,
       "version_minor": 0
      },
      "text/plain": [
       "interactive(children=(IntSlider(value=50, description='x'), Output()), _dom_classes=('widget-interact',))"
      ]
     },
     "metadata": {},
     "output_type": "display_data"
    }
   ],
   "source": [
    "demo.visualization()"
   ]
  },
  {
   "cell_type": "code",
   "execution_count": null,
   "metadata": {},
   "outputs": [],
   "source": []
  },
  {
   "cell_type": "code",
   "execution_count": null,
   "metadata": {},
   "outputs": [],
   "source": []
  },
  {
   "cell_type": "code",
   "execution_count": null,
   "metadata": {},
   "outputs": [],
   "source": [
    "\n"
   ]
  },
  {
   "cell_type": "code",
   "execution_count": null,
   "metadata": {},
   "outputs": [],
   "source": []
  },
  {
   "cell_type": "code",
   "execution_count": null,
   "metadata": {},
   "outputs": [],
   "source": []
  }
 ],
 "metadata": {
  "kernelspec": {
   "display_name": "Python 3",
   "language": "python",
   "name": "python3"
  },
  "language_info": {
   "codemirror_mode": {
    "name": "ipython",
    "version": 3
   },
   "file_extension": ".py",
   "mimetype": "text/x-python",
   "name": "python",
   "nbconvert_exporter": "python",
   "pygments_lexer": "ipython3",
   "version": "3.7.0"
  }
 },
 "nbformat": 4,
 "nbformat_minor": 2
}
